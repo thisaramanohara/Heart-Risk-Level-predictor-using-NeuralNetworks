{
 "cells": [
  {
   "cell_type": "code",
   "execution_count": 9,
   "metadata": {},
   "outputs": [],
   "source": [
    "import pandas as pd\n",
    "import numpy as np\n",
    "from matplotlib import pyplot as plt\n",
    "\n",
    "dataset=pd.read_csv('cardio_dataset.csv').values"
   ]
  },
  {
   "cell_type": "code",
   "execution_count": 10,
   "metadata": {},
   "outputs": [],
   "source": [
    "data=dataset[:,0:7]\n",
    "target=dataset[:,7]\n",
    "\n",
    "target=np.reshape(target,(-1,1))"
   ]
  },
  {
   "cell_type": "code",
   "execution_count": 11,
   "metadata": {},
   "outputs": [],
   "source": [
    "#data scaling for to reduce the loss\n",
    "\n",
    "from sklearn.preprocessing import MinMaxScaler\n",
    "\n",
    "scaler_data=MinMaxScaler()\n",
    "scaler_target=MinMaxScaler()\n",
    "\n",
    "scaled_data=scaler_data.fit_transform(data)\n",
    "scaled_target=scaler_target.fit_transform(target)"
   ]
  },
  {
   "cell_type": "code",
   "execution_count": 12,
   "metadata": {},
   "outputs": [],
   "source": [
    "from sklearn.model_selection import train_test_split\n",
    "\n",
    "train_data,test_data,train_target,test_target=train_test_split(scaled_data,scaled_target,test_size=0.2)"
   ]
  },
  {
   "cell_type": "code",
   "execution_count": 18,
   "metadata": {},
   "outputs": [],
   "source": [
    "from keras.models import Sequential\n",
    "from keras.layers import Dense,Dropout\n",
    "\n",
    "model=Sequential()\n",
    "model.add(Dense(128,input_dim=7,activation='relu'))\n",
    "model.add(Dropout(0.5))\n",
    "model.add(Dense(64,activation='relu'))\n",
    "model.add(Dropout(0.5))\n",
    "model.add(Dense(10,activation='relu'))\n",
    "model.add(Dense(1,activation='linear'))\n",
    "\n",
    "model.compile(optimizer='adam',loss='mse',metrics=['mse'])"
   ]
  },
  {
   "cell_type": "code",
   "execution_count": 19,
   "metadata": {},
   "outputs": [
    {
     "name": "stdout",
     "output_type": "stream",
     "text": [
      "Model: \"sequential_2\"\n",
      "_________________________________________________________________\n",
      "Layer (type)                 Output Shape              Param #   \n",
      "=================================================================\n",
      "dense_5 (Dense)              (None, 128)               1024      \n",
      "_________________________________________________________________\n",
      "dropout_1 (Dropout)          (None, 128)               0         \n",
      "_________________________________________________________________\n",
      "dense_6 (Dense)              (None, 64)                8256      \n",
      "_________________________________________________________________\n",
      "dropout_2 (Dropout)          (None, 64)                0         \n",
      "_________________________________________________________________\n",
      "dense_7 (Dense)              (None, 10)                650       \n",
      "_________________________________________________________________\n",
      "dense_8 (Dense)              (None, 1)                 11        \n",
      "=================================================================\n",
      "Total params: 9,941\n",
      "Trainable params: 9,941\n",
      "Non-trainable params: 0\n",
      "_________________________________________________________________\n"
     ]
    }
   ],
   "source": [
    "model.summary()"
   ]
  },
  {
   "cell_type": "code",
   "execution_count": 20,
   "metadata": {},
   "outputs": [
    {
     "name": "stdout",
     "output_type": "stream",
     "text": [
      "Train on 4252 samples, validate on 1063 samples\n",
      "Epoch 1/150\n",
      "4252/4252 [==============================] - ETA: 0s - loss: 0.0201 - mse: 0.020 - 1s 329us/step - loss: 0.0196 - mse: 0.0196 - val_loss: 0.0084 - val_mse: 0.0084\n",
      "Epoch 2/150\n",
      "4252/4252 [==============================] - 1s 157us/step - loss: 0.0111 - mse: 0.0111 - val_loss: 0.0064 - val_mse: 0.0064\n",
      "Epoch 3/150\n",
      "4252/4252 [==============================] - 1s 166us/step - loss: 0.0083 - mse: 0.0083 - val_loss: 0.0068 - val_mse: 0.0068\n",
      "Epoch 4/150\n",
      "4252/4252 [==============================] - 1s 167us/step - loss: 0.0077 - mse: 0.0077 - val_loss: 0.0062 - val_mse: 0.0062\n",
      "Epoch 5/150\n",
      "4252/4252 [==============================] - 1s 153us/step - loss: 0.0073 - mse: 0.0073 - val_loss: 0.0065 - val_mse: 0.0065\n",
      "Epoch 6/150\n",
      "4252/4252 [==============================] - 1s 141us/step - loss: 0.0066 - mse: 0.0066 - val_loss: 0.0047 - val_mse: 0.0047\n",
      "Epoch 7/150\n",
      "4252/4252 [==============================] - 1s 123us/step - loss: 0.0062 - mse: 0.0062 - val_loss: 0.0053 - val_mse: 0.0053\n",
      "Epoch 8/150\n",
      "4252/4252 [==============================] - 1s 125us/step - loss: 0.0063 - mse: 0.0063 - val_loss: 0.0044 - val_mse: 0.0044\n",
      "Epoch 9/150\n",
      "4252/4252 [==============================] - 1s 121us/step - loss: 0.0058 - mse: 0.0058 - val_loss: 0.0042 - val_mse: 0.0042\n",
      "Epoch 10/150\n",
      "4252/4252 [==============================] - 1s 125us/step - loss: 0.0053 - mse: 0.0053 - val_loss: 0.0040 - val_mse: 0.0040\n",
      "Epoch 11/150\n",
      "4252/4252 [==============================] - 1s 168us/step - loss: 0.0055 - mse: 0.0055 - val_loss: 0.0040 - val_mse: 0.0040\n",
      "Epoch 12/150\n",
      "4252/4252 [==============================] - 1s 164us/step - loss: 0.0050 - mse: 0.0050 - val_loss: 0.0045 - val_mse: 0.0045\n",
      "Epoch 13/150\n",
      "4252/4252 [==============================] - 1s 151us/step - loss: 0.0051 - mse: 0.0051 - val_loss: 0.0040 - val_mse: 0.0040\n",
      "Epoch 14/150\n",
      "4252/4252 [==============================] - 1s 162us/step - loss: 0.0048 - mse: 0.0048 - val_loss: 0.0038 - val_mse: 0.0038\n",
      "Epoch 15/150\n",
      "4252/4252 [==============================] - 1s 135us/step - loss: 0.0047 - mse: 0.0047 - val_loss: 0.0039 - val_mse: 0.0039\n",
      "Epoch 16/150\n",
      "4252/4252 [==============================] - 1s 124us/step - loss: 0.0044 - mse: 0.0044 - val_loss: 0.0043 - val_mse: 0.0043\n",
      "Epoch 17/150\n",
      "4252/4252 [==============================] - 1s 121us/step - loss: 0.0048 - mse: 0.0048 - val_loss: 0.0037 - val_mse: 0.0037\n",
      "Epoch 18/150\n",
      "4252/4252 [==============================] - ETA: 0s - loss: 0.0044 - mse: 0.004 - 1s 119us/step - loss: 0.0044 - mse: 0.0044 - val_loss: 0.0037 - val_mse: 0.0037\n",
      "Epoch 19/150\n",
      "4252/4252 [==============================] - 1s 121us/step - loss: 0.0043 - mse: 0.0043 - val_loss: 0.0041 - val_mse: 0.0041\n",
      "Epoch 20/150\n",
      "4252/4252 [==============================] - 1s 125us/step - loss: 0.0044 - mse: 0.0044 - val_loss: 0.0043 - val_mse: 0.0043\n",
      "Epoch 21/150\n",
      "4252/4252 [==============================] - 1s 156us/step - loss: 0.0042 - mse: 0.0042 - val_loss: 0.0035 - val_mse: 0.0035\n",
      "Epoch 22/150\n",
      "4252/4252 [==============================] - 1s 170us/step - loss: 0.0045 - mse: 0.0045 - val_loss: 0.0038 - val_mse: 0.0038\n",
      "Epoch 23/150\n",
      "4252/4252 [==============================] - 1s 154us/step - loss: 0.0041 - mse: 0.0041 - val_loss: 0.0037 - val_mse: 0.0037\n",
      "Epoch 24/150\n",
      "4252/4252 [==============================] - 1s 158us/step - loss: 0.0041 - mse: 0.0041 - val_loss: 0.0038 - val_mse: 0.0038\n",
      "Epoch 25/150\n",
      "4252/4252 [==============================] - 1s 163us/step - loss: 0.0043 - mse: 0.0043 - val_loss: 0.0036 - val_mse: 0.0036\n",
      "Epoch 26/150\n",
      "4252/4252 [==============================] - 1s 161us/step - loss: 0.0040 - mse: 0.0040 - val_loss: 0.0039 - val_mse: 0.0039\n",
      "Epoch 27/150\n",
      "4252/4252 [==============================] - 1s 148us/step - loss: 0.0041 - mse: 0.0041 - val_loss: 0.0034 - val_mse: 0.0034\n",
      "Epoch 28/150\n",
      "4252/4252 [==============================] - 1s 152us/step - loss: 0.0040 - mse: 0.0040 - val_loss: 0.0042 - val_mse: 0.0042\n",
      "Epoch 29/150\n",
      "4252/4252 [==============================] - 1s 168us/step - loss: 0.0040 - mse: 0.0040 - val_loss: 0.0036 - val_mse: 0.0036\n",
      "Epoch 30/150\n",
      "4252/4252 [==============================] - 1s 204us/step - loss: 0.0040 - mse: 0.0040 - val_loss: 0.0034 - val_mse: 0.0034\n",
      "Epoch 31/150\n",
      "4252/4252 [==============================] - 1s 205us/step - loss: 0.0040 - mse: 0.0040 - val_loss: 0.0033 - val_mse: 0.0033\n",
      "Epoch 32/150\n",
      "4252/4252 [==============================] - 1s 181us/step - loss: 0.0039 - mse: 0.0039 - val_loss: 0.0037 - val_mse: 0.0037\n",
      "Epoch 33/150\n",
      "4252/4252 [==============================] - 1s 184us/step - loss: 0.0039 - mse: 0.0039 - val_loss: 0.0036 - val_mse: 0.0036\n",
      "Epoch 34/150\n",
      "4252/4252 [==============================] - 1s 149us/step - loss: 0.0040 - mse: 0.0040 - val_loss: 0.0034 - val_mse: 0.0034\n",
      "Epoch 35/150\n",
      "4252/4252 [==============================] - 1s 158us/step - loss: 0.0038 - mse: 0.0038 - val_loss: 0.0036 - val_mse: 0.0036\n",
      "Epoch 36/150\n",
      "4252/4252 [==============================] - 1s 162us/step - loss: 0.0039 - mse: 0.0039 - val_loss: 0.0034 - val_mse: 0.0034\n",
      "Epoch 37/150\n",
      "4252/4252 [==============================] - 1s 209us/step - loss: 0.0040 - mse: 0.0040 - val_loss: 0.0033 - val_mse: 0.0033\n",
      "Epoch 38/150\n",
      "4252/4252 [==============================] - 1s 172us/step - loss: 0.0039 - mse: 0.0039 - val_loss: 0.0037 - val_mse: 0.0037\n",
      "Epoch 39/150\n",
      "4252/4252 [==============================] - 1s 154us/step - loss: 0.0038 - mse: 0.0038 - val_loss: 0.0035 - val_mse: 0.0035\n",
      "Epoch 40/150\n",
      "4252/4252 [==============================] - 1s 208us/step - loss: 0.0038 - mse: 0.0038 - val_loss: 0.0034 - val_mse: 0.0034\n",
      "Epoch 41/150\n",
      "4252/4252 [==============================] - 1s 140us/step - loss: 0.0038 - mse: 0.0038 - val_loss: 0.0037 - val_mse: 0.0037\n",
      "Epoch 42/150\n",
      "4252/4252 [==============================] - 1s 175us/step - loss: 0.0036 - mse: 0.0036 - val_loss: 0.0033 - val_mse: 0.0033\n",
      "Epoch 43/150\n",
      "4252/4252 [==============================] - ETA: 0s - loss: 0.0037 - mse: 0.003 - 1s 140us/step - loss: 0.0036 - mse: 0.0036 - val_loss: 0.0036 - val_mse: 0.0036\n",
      "Epoch 44/150\n",
      "4252/4252 [==============================] - 1s 175us/step - loss: 0.0037 - mse: 0.0037 - val_loss: 0.0033 - val_mse: 0.0033\n",
      "Epoch 45/150\n",
      "4252/4252 [==============================] - 1s 193us/step - loss: 0.0035 - mse: 0.0035 - val_loss: 0.0034 - val_mse: 0.0034\n",
      "Epoch 46/150\n",
      "4252/4252 [==============================] - 1s 219us/step - loss: 0.0037 - mse: 0.0037 - val_loss: 0.0034 - val_mse: 0.0034\n",
      "Epoch 47/150\n",
      "4252/4252 [==============================] - 1s 219us/step - loss: 0.0036 - mse: 0.0036 - val_loss: 0.0035 - val_mse: 0.0035\n",
      "Epoch 48/150\n",
      "4252/4252 [==============================] - 1s 203us/step - loss: 0.0038 - mse: 0.0038 - val_loss: 0.0036 - val_mse: 0.0036\n",
      "Epoch 49/150\n",
      "4252/4252 [==============================] - 1s 148us/step - loss: 0.0040 - mse: 0.0040 - val_loss: 0.0037 - val_mse: 0.0037\n",
      "Epoch 50/150\n",
      "4252/4252 [==============================] - 1s 165us/step - loss: 0.0037 - mse: 0.0037 - val_loss: 0.0034 - val_mse: 0.0034\n",
      "Epoch 51/150\n",
      "4252/4252 [==============================] - 1s 129us/step - loss: 0.0038 - mse: 0.0038 - val_loss: 0.0038 - val_mse: 0.0038\n",
      "Epoch 52/150\n",
      "4252/4252 [==============================] - 1s 139us/step - loss: 0.0036 - mse: 0.0036 - val_loss: 0.0036 - val_mse: 0.0036\n",
      "Epoch 53/150\n",
      "4252/4252 [==============================] - 1s 178us/step - loss: 0.0038 - mse: 0.0038 - val_loss: 0.0036 - val_mse: 0.0036\n",
      "Epoch 54/150\n",
      "4252/4252 [==============================] - 1s 160us/step - loss: 0.0036 - mse: 0.0036 - val_loss: 0.0036 - val_mse: 0.0036\n",
      "Epoch 55/150\n",
      "4252/4252 [==============================] - 1s 146us/step - loss: 0.0036 - mse: 0.0036 - val_loss: 0.0037 - val_mse: 0.0037\n",
      "Epoch 56/150\n",
      "4252/4252 [==============================] - 1s 181us/step - loss: 0.0036 - mse: 0.0036 - val_loss: 0.0037 - val_mse: 0.0037\n",
      "Epoch 57/150\n",
      "4252/4252 [==============================] - 1s 178us/step - loss: 0.0035 - mse: 0.0035 - val_loss: 0.0033 - val_mse: 0.0033\n",
      "Epoch 58/150\n",
      "4252/4252 [==============================] - 1s 136us/step - loss: 0.0037 - mse: 0.0037 - val_loss: 0.0033 - val_mse: 0.0033\n",
      "Epoch 59/150\n"
     ]
    },
    {
     "name": "stdout",
     "output_type": "stream",
     "text": [
      "4252/4252 [==============================] - 1s 136us/step - loss: 0.0036 - mse: 0.0036 - val_loss: 0.0034 - val_mse: 0.0034\n",
      "Epoch 60/150\n",
      "4252/4252 [==============================] - 1s 142us/step - loss: 0.0036 - mse: 0.0036 - val_loss: 0.0035 - val_mse: 0.0035\n",
      "Epoch 61/150\n",
      "4252/4252 [==============================] - 1s 147us/step - loss: 0.0037 - mse: 0.0037 - val_loss: 0.0033 - val_mse: 0.0033\n",
      "Epoch 62/150\n",
      "4252/4252 [==============================] - 1s 235us/step - loss: 0.0035 - mse: 0.0035 - val_loss: 0.0037 - val_mse: 0.0037\n",
      "Epoch 63/150\n",
      "4252/4252 [==============================] - 1s 206us/step - loss: 0.0036 - mse: 0.0036 - val_loss: 0.0033 - val_mse: 0.0033\n",
      "Epoch 64/150\n",
      "4252/4252 [==============================] - 1s 210us/step - loss: 0.0036 - mse: 0.0036 - val_loss: 0.0036 - val_mse: 0.0036\n",
      "Epoch 65/150\n",
      "4252/4252 [==============================] - 1s 187us/step - loss: 0.0036 - mse: 0.0036 - val_loss: 0.0034 - val_mse: 0.0034\n",
      "Epoch 66/150\n",
      "4252/4252 [==============================] - 1s 160us/step - loss: 0.0037 - mse: 0.0037 - val_loss: 0.0039 - val_mse: 0.0039\n",
      "Epoch 67/150\n",
      "4252/4252 [==============================] - 1s 154us/step - loss: 0.0035 - mse: 0.0035 - val_loss: 0.0039 - val_mse: 0.0039\n",
      "Epoch 68/150\n",
      "4252/4252 [==============================] - 1s 169us/step - loss: 0.0035 - mse: 0.0035 - val_loss: 0.0035 - val_mse: 0.0035\n",
      "Epoch 69/150\n",
      "4252/4252 [==============================] - 1s 152us/step - loss: 0.0035 - mse: 0.0035 - val_loss: 0.0037 - val_mse: 0.0037\n",
      "Epoch 70/150\n",
      "4252/4252 [==============================] - 1s 195us/step - loss: 0.0035 - mse: 0.0035 - val_loss: 0.0035 - val_mse: 0.0035\n",
      "Epoch 71/150\n",
      "4252/4252 [==============================] - 1s 218us/step - loss: 0.0035 - mse: 0.0035 - val_loss: 0.0036 - val_mse: 0.0036\n",
      "Epoch 72/150\n",
      "4252/4252 [==============================] - 1s 184us/step - loss: 0.0035 - mse: 0.0035 - val_loss: 0.0035 - val_mse: 0.0035\n",
      "Epoch 73/150\n",
      "4252/4252 [==============================] - 1s 188us/step - loss: 0.0035 - mse: 0.0035 - val_loss: 0.0038 - val_mse: 0.0038\n",
      "Epoch 74/150\n",
      "4252/4252 [==============================] - 1s 151us/step - loss: 0.0034 - mse: 0.0034 - val_loss: 0.0037 - val_mse: 0.0037\n",
      "Epoch 75/150\n",
      "4252/4252 [==============================] - 1s 143us/step - loss: 0.0035 - mse: 0.0035 - val_loss: 0.0035 - val_mse: 0.0035\n",
      "Epoch 76/150\n",
      "4252/4252 [==============================] - 1s 139us/step - loss: 0.0035 - mse: 0.0035 - val_loss: 0.0034 - val_mse: 0.0034\n",
      "Epoch 77/150\n",
      "4252/4252 [==============================] - 1s 145us/step - loss: 0.0035 - mse: 0.0035 - val_loss: 0.0035 - val_mse: 0.0035\n",
      "Epoch 78/150\n",
      "4252/4252 [==============================] - 1s 164us/step - loss: 0.0036 - mse: 0.0036 - val_loss: 0.0035 - val_mse: 0.0035\n",
      "Epoch 79/150\n",
      "4252/4252 [==============================] - 1s 215us/step - loss: 0.0033 - mse: 0.0033 - val_loss: 0.0034 - val_mse: 0.0034\n",
      "Epoch 80/150\n",
      "4252/4252 [==============================] - 1s 186us/step - loss: 0.0034 - mse: 0.0034 - val_loss: 0.0035 - val_mse: 0.0035\n",
      "Epoch 81/150\n",
      "4252/4252 [==============================] - 1s 200us/step - loss: 0.0035 - mse: 0.0035 - val_loss: 0.0036 - val_mse: 0.0036\n",
      "Epoch 82/150\n",
      "4252/4252 [==============================] - 1s 152us/step - loss: 0.0035 - mse: 0.0035 - val_loss: 0.0035 - val_mse: 0.0035\n",
      "Epoch 83/150\n",
      "4252/4252 [==============================] - 1s 173us/step - loss: 0.0036 - mse: 0.0036 - val_loss: 0.0034 - val_mse: 0.0034\n",
      "Epoch 84/150\n",
      "4252/4252 [==============================] - 1s 164us/step - loss: 0.0035 - mse: 0.0035 - val_loss: 0.0036 - val_mse: 0.0036\n",
      "Epoch 85/150\n",
      "4252/4252 [==============================] - 1s 147us/step - loss: 0.0036 - mse: 0.0036 - val_loss: 0.0035 - val_mse: 0.0035\n",
      "Epoch 86/150\n",
      "4252/4252 [==============================] - 1s 149us/step - loss: 0.0035 - mse: 0.0035 - val_loss: 0.0036 - val_mse: 0.0036\n",
      "Epoch 87/150\n",
      "4252/4252 [==============================] - 1s 220us/step - loss: 0.0036 - mse: 0.0036 - val_loss: 0.0035 - val_mse: 0.0035\n",
      "Epoch 88/150\n",
      "4252/4252 [==============================] - 1s 207us/step - loss: 0.0035 - mse: 0.0035 - val_loss: 0.0037 - val_mse: 0.0037\n",
      "Epoch 89/150\n",
      "4252/4252 [==============================] - 1s 154us/step - loss: 0.0034 - mse: 0.0034 - val_loss: 0.0034 - val_mse: 0.0034\n",
      "Epoch 90/150\n",
      "4252/4252 [==============================] - 1s 137us/step - loss: 0.0035 - mse: 0.0035 - val_loss: 0.0036 - val_mse: 0.0036\n",
      "Epoch 91/150\n",
      "4252/4252 [==============================] - 1s 138us/step - loss: 0.0034 - mse: 0.0034 - val_loss: 0.0035 - val_mse: 0.0035\n",
      "Epoch 92/150\n",
      "4252/4252 [==============================] - 1s 149us/step - loss: 0.0034 - mse: 0.0034 - val_loss: 0.0036 - val_mse: 0.0036\n",
      "Epoch 93/150\n",
      "4252/4252 [==============================] - 1s 146us/step - loss: 0.0036 - mse: 0.0036 - val_loss: 0.0037 - val_mse: 0.0037\n",
      "Epoch 94/150\n",
      "4252/4252 [==============================] - 1s 141us/step - loss: 0.0035 - mse: 0.0035 - val_loss: 0.0037 - val_mse: 0.0037\n",
      "Epoch 95/150\n",
      "4252/4252 [==============================] - 1s 150us/step - loss: 0.0035 - mse: 0.0035 - val_loss: 0.0035 - val_mse: 0.0035\n",
      "Epoch 96/150\n",
      "4252/4252 [==============================] - 1s 219us/step - loss: 0.0034 - mse: 0.0034 - val_loss: 0.0036 - val_mse: 0.0036\n",
      "Epoch 97/150\n",
      "4252/4252 [==============================] - 1s 219us/step - loss: 0.0033 - mse: 0.0033 - val_loss: 0.0035 - val_mse: 0.0035\n",
      "Epoch 98/150\n",
      "4252/4252 [==============================] - 1s 185us/step - loss: 0.0033 - mse: 0.0033 - val_loss: 0.0033 - val_mse: 0.0033\n",
      "Epoch 99/150\n",
      "4252/4252 [==============================] - 1s 155us/step - loss: 0.0035 - mse: 0.0035 - val_loss: 0.0036 - val_mse: 0.0036\n",
      "Epoch 100/150\n",
      "4252/4252 [==============================] - 1s 147us/step - loss: 0.0035 - mse: 0.0035 - val_loss: 0.0036 - val_mse: 0.0036\n",
      "Epoch 101/150\n",
      "4252/4252 [==============================] - 1s 159us/step - loss: 0.0033 - mse: 0.0033 - val_loss: 0.0035 - val_mse: 0.0035\n",
      "Epoch 102/150\n",
      "4252/4252 [==============================] - 1s 147us/step - loss: 0.0033 - mse: 0.0033 - val_loss: 0.0033 - val_mse: 0.0033\n",
      "Epoch 103/150\n",
      "4252/4252 [==============================] - 1s 161us/step - loss: 0.0034 - mse: 0.0034 - val_loss: 0.0037 - val_mse: 0.0037\n",
      "Epoch 104/150\n",
      "4252/4252 [==============================] - 1s 173us/step - loss: 0.0033 - mse: 0.0033 - val_loss: 0.0035 - val_mse: 0.0035\n",
      "Epoch 105/150\n",
      "4252/4252 [==============================] - 1s 217us/step - loss: 0.0035 - mse: 0.0035 - val_loss: 0.0036 - val_mse: 0.0036\n",
      "Epoch 106/150\n",
      "4252/4252 [==============================] - 1s 185us/step - loss: 0.0034 - mse: 0.0034 - val_loss: 0.0036 - val_mse: 0.0036\n",
      "Epoch 107/150\n",
      "4252/4252 [==============================] - 1s 136us/step - loss: 0.0035 - mse: 0.0035 - val_loss: 0.0034 - val_mse: 0.0034\n",
      "Epoch 108/150\n",
      "4252/4252 [==============================] - 1s 130us/step - loss: 0.0035 - mse: 0.0035 - val_loss: 0.0035 - val_mse: 0.0035\n",
      "Epoch 109/150\n",
      "4252/4252 [==============================] - 1s 125us/step - loss: 0.0034 - mse: 0.0034 - val_loss: 0.0034 - val_mse: 0.0034\n",
      "Epoch 110/150\n",
      "4252/4252 [==============================] - 1s 121us/step - loss: 0.0035 - mse: 0.0035 - val_loss: 0.0037 - val_mse: 0.0037\n",
      "Epoch 111/150\n",
      "4252/4252 [==============================] - 1s 123us/step - loss: 0.0034 - mse: 0.0034 - val_loss: 0.0034 - val_mse: 0.0034\n",
      "Epoch 112/150\n",
      "4252/4252 [==============================] - 1s 122us/step - loss: 0.0033 - mse: 0.0033 - val_loss: 0.0036 - val_mse: 0.0036\n",
      "Epoch 113/150\n",
      "4252/4252 [==============================] - 1s 132us/step - loss: 0.0034 - mse: 0.0034 - val_loss: 0.0035 - val_mse: 0.0035\n",
      "Epoch 114/150\n",
      "4252/4252 [==============================] - 1s 174us/step - loss: 0.0035 - mse: 0.0035 - val_loss: 0.0038 - val_mse: 0.0038\n",
      "Epoch 115/150\n",
      "4252/4252 [==============================] - 1s 191us/step - loss: 0.0033 - mse: 0.0033 - val_loss: 0.0034 - val_mse: 0.0034\n",
      "Epoch 116/150\n",
      "4252/4252 [==============================] - 1s 178us/step - loss: 0.0033 - mse: 0.0033 - val_loss: 0.0035 - val_mse: 0.0035\n",
      "Epoch 117/150\n",
      "4252/4252 [==============================] - 1s 126us/step - loss: 0.0035 - mse: 0.0035 - val_loss: 0.0036 - val_mse: 0.0036\n",
      "Epoch 118/150\n"
     ]
    },
    {
     "name": "stdout",
     "output_type": "stream",
     "text": [
      "4252/4252 [==============================] - 1s 134us/step - loss: 0.0034 - mse: 0.0034 - val_loss: 0.0038 - val_mse: 0.0038\n",
      "Epoch 119/150\n",
      "4252/4252 [==============================] - 1s 136us/step - loss: 0.0033 - mse: 0.0033 - val_loss: 0.0037 - val_mse: 0.0037\n",
      "Epoch 120/150\n",
      "4252/4252 [==============================] - 1s 139us/step - loss: 0.0034 - mse: 0.0034 - val_loss: 0.0037 - val_mse: 0.0037\n",
      "Epoch 121/150\n",
      "4252/4252 [==============================] - 1s 131us/step - loss: 0.0035 - mse: 0.0035 - val_loss: 0.0036 - val_mse: 0.0036\n",
      "Epoch 122/150\n",
      "4252/4252 [==============================] - 1s 141us/step - loss: 0.0035 - mse: 0.0035 - val_loss: 0.0035 - val_mse: 0.0035\n",
      "Epoch 123/150\n",
      "4252/4252 [==============================] - 1s 165us/step - loss: 0.0033 - mse: 0.0033 - val_loss: 0.0034 - val_mse: 0.0034\n",
      "Epoch 124/150\n",
      "4252/4252 [==============================] - 1s 182us/step - loss: 0.0034 - mse: 0.0034 - val_loss: 0.0038 - val_mse: 0.0038\n",
      "Epoch 125/150\n",
      "4252/4252 [==============================] - 1s 210us/step - loss: 0.0034 - mse: 0.0034 - val_loss: 0.0036 - val_mse: 0.0036\n",
      "Epoch 126/150\n",
      "4252/4252 [==============================] - 1s 146us/step - loss: 0.0033 - mse: 0.0033 - val_loss: 0.0034 - val_mse: 0.0034\n",
      "Epoch 127/150\n",
      "4252/4252 [==============================] - 1s 133us/step - loss: 0.0035 - mse: 0.0035 - val_loss: 0.0038 - val_mse: 0.0038\n",
      "Epoch 128/150\n",
      "4252/4252 [==============================] - 1s 138us/step - loss: 0.0032 - mse: 0.0032 - val_loss: 0.0036 - val_mse: 0.0036\n",
      "Epoch 129/150\n",
      "4252/4252 [==============================] - 1s 139us/step - loss: 0.0033 - mse: 0.0033 - val_loss: 0.0036 - val_mse: 0.0036\n",
      "Epoch 130/150\n",
      "4252/4252 [==============================] - 1s 141us/step - loss: 0.0032 - mse: 0.0032 - val_loss: 0.0036 - val_mse: 0.0036\n",
      "Epoch 131/150\n",
      "4252/4252 [==============================] - 1s 126us/step - loss: 0.0033 - mse: 0.0033 - val_loss: 0.0036 - val_mse: 0.0036\n",
      "Epoch 132/150\n",
      "4252/4252 [==============================] - 1s 163us/step - loss: 0.0033 - mse: 0.0033 - val_loss: 0.0037 - val_mse: 0.0037\n",
      "Epoch 133/150\n",
      "4252/4252 [==============================] - 1s 137us/step - loss: 0.0032 - mse: 0.0032 - val_loss: 0.0036 - val_mse: 0.0036\n",
      "Epoch 134/150\n",
      "4252/4252 [==============================] - 1s 173us/step - loss: 0.0033 - mse: 0.0033 - val_loss: 0.0036 - val_mse: 0.0036\n",
      "Epoch 135/150\n",
      "4252/4252 [==============================] - 1s 177us/step - loss: 0.0032 - mse: 0.0032 - val_loss: 0.0035 - val_mse: 0.0035\n",
      "Epoch 136/150\n",
      "4252/4252 [==============================] - 1s 138us/step - loss: 0.0033 - mse: 0.0033 - val_loss: 0.0037 - val_mse: 0.0037\n",
      "Epoch 137/150\n",
      "4252/4252 [==============================] - 1s 122us/step - loss: 0.0032 - mse: 0.0032 - val_loss: 0.0037 - val_mse: 0.0037\n",
      "Epoch 138/150\n",
      "4252/4252 [==============================] - 1s 119us/step - loss: 0.0033 - mse: 0.0033 - val_loss: 0.0038 - val_mse: 0.0038\n",
      "Epoch 139/150\n",
      "4252/4252 [==============================] - 1s 119us/step - loss: 0.0033 - mse: 0.0033 - val_loss: 0.0039 - val_mse: 0.0039\n",
      "Epoch 140/150\n",
      "4252/4252 [==============================] - 1s 120us/step - loss: 0.0034 - mse: 0.0034 - val_loss: 0.0038 - val_mse: 0.0038\n",
      "Epoch 141/150\n",
      "4252/4252 [==============================] - 1s 126us/step - loss: 0.0033 - mse: 0.0033 - val_loss: 0.0034 - val_mse: 0.0034\n",
      "Epoch 142/150\n",
      "4252/4252 [==============================] - 1s 155us/step - loss: 0.0033 - mse: 0.0033 - val_loss: 0.0035 - val_mse: 0.0035\n",
      "Epoch 143/150\n",
      "4252/4252 [==============================] - 1s 121us/step - loss: 0.0034 - mse: 0.0034 - val_loss: 0.0036 - val_mse: 0.0036\n",
      "Epoch 144/150\n",
      "4252/4252 [==============================] - 1s 161us/step - loss: 0.0033 - mse: 0.0033 - val_loss: 0.0040 - val_mse: 0.0040\n",
      "Epoch 145/150\n",
      "4252/4252 [==============================] - 1s 146us/step - loss: 0.0033 - mse: 0.0033 - val_loss: 0.0036 - val_mse: 0.0036\n",
      "Epoch 146/150\n",
      "4252/4252 [==============================] - 1s 133us/step - loss: 0.0035 - mse: 0.0035 - val_loss: 0.0036 - val_mse: 0.0036\n",
      "Epoch 147/150\n",
      "4252/4252 [==============================] - 1s 163us/step - loss: 0.0035 - mse: 0.0035 - val_loss: 0.0038 - val_mse: 0.0038\n",
      "Epoch 148/150\n",
      "4252/4252 [==============================] - 1s 151us/step - loss: 0.0034 - mse: 0.0034 - val_loss: 0.0035 - val_mse: 0.0035\n",
      "Epoch 149/150\n",
      "4252/4252 [==============================] - 1s 152us/step - loss: 0.0033 - mse: 0.0033 - val_loss: 0.0037 - val_mse: 0.0037\n",
      "Epoch 150/150\n",
      "4252/4252 [==============================] - 1s 135us/step - loss: 0.0034 - mse: 0.0034 - val_loss: 0.0038 - val_mse: 0.0038\n"
     ]
    },
    {
     "data": {
      "text/plain": [
       "<keras.callbacks.callbacks.History at 0x17a66c3c808>"
      ]
     },
     "execution_count": 20,
     "metadata": {},
     "output_type": "execute_result"
    }
   ],
   "source": [
    "model.fit(train_data,train_target,epochs=150,validation_split=0.2)"
   ]
  },
  {
   "cell_type": "code",
   "execution_count": 21,
   "metadata": {},
   "outputs": [
    {
     "data": {
      "image/png": "[encoded data removed]",
      "text/plain": [
       "<Figure size 432x288 with 1 Axes>"
      ]
     },
     "metadata": {
      "needs_background": "light"
     },
     "output_type": "display_data"
    }
   ],
   "source": [
    "plt.plot(model.history.history['loss'],label='loss')\n",
    "plt.plot(model.history.history['val_loss'],label='val_loss')\n",
    "plt.xlabel('number of epochs')\n",
    "plt.ylabel('loss')\n",
    "plt.legend()\n",
    "plt.show()"
   ]
  },
  {
   "cell_type": "code",
   "execution_count": 22,
   "metadata": {},
   "outputs": [],
   "source": [
    "predicted_target=model.predict(test_data)"
   ]
  },
  {
   "cell_type": "code",
   "execution_count": 23,
   "metadata": {},
   "outputs": [
    {
     "name": "stdout",
     "output_type": "stream",
     "text": [
      "0.8413915174516479\n"
     ]
    }
   ],
   "source": [
    "from sklearn.metrics import r2_score\n",
    "\n",
    "accuracy=r2_score(test_target,predicted_target)\n",
    "print(accuracy)"
   ]
  },
  {
   "cell_type": "code",
   "execution_count": 24,
   "metadata": {},
   "outputs": [
    {
     "name": "stdout",
     "output_type": "stream",
     "text": [
      "[[0.02696366]\n",
      " [0.36694021]\n",
      " [0.05509965]\n",
      " [0.07502931]\n",
      " [0.15826495]\n",
      " [0.02461899]\n",
      " [0.61781946]\n",
      " [0.0926143 ]\n",
      " [0.0855803 ]\n",
      " [0.00820633]]\n"
     ]
    }
   ],
   "source": [
    "print(test_target[:10])"
   ]
  },
  {
   "cell_type": "code",
   "execution_count": 25,
   "metadata": {},
   "outputs": [
    {
     "name": "stdout",
     "output_type": "stream",
     "text": [
      "[[0.06299771]\n",
      " [0.38240677]\n",
      " [0.0718818 ]\n",
      " [0.10898291]\n",
      " [0.16199438]\n",
      " [0.0550993 ]\n",
      " [0.54042625]\n",
      " [0.12046175]\n",
      " [0.12003207]\n",
      " [0.05581836]]\n"
     ]
    }
   ],
   "source": [
    "print(predicted_target[:10])"
   ]
  },
  {
   "cell_type": "code",
   "execution_count": 27,
   "metadata": {},
   "outputs": [
    {
     "name": "stdout",
     "output_type": "stream",
     "text": [
      "[[ 2.4]\n",
      " [31.4]\n",
      " [ 4.8]\n",
      " [ 6.5]\n",
      " [13.6]\n",
      " [ 2.2]\n",
      " [52.8]\n",
      " [ 8. ]\n",
      " [ 7.4]\n",
      " [ 0.8]]\n",
      "--------------\n",
      "[[ 5.4737053]\n",
      " [32.7193   ]\n",
      " [ 6.231518 ]\n",
      " [ 9.396242 ]\n",
      " [13.918121 ]\n",
      " [ 4.7999706]\n",
      " [46.198357 ]\n",
      " [10.375387 ]\n",
      " [10.338736 ]\n",
      " [ 4.8613057]]\n"
     ]
    }
   ],
   "source": [
    "print(scaler_target.inverse_transform(test_target[:10]))\n",
    "print('--------------')\n",
    "print(scaler_target.inverse_transform(predicted_target[:10]))"
   ]
  },
  {
   "cell_type": "code",
   "execution_count": 28,
   "metadata": {},
   "outputs": [],
   "source": [
    "custom_input=np.array([1,54,179,56,1,1,0]).reshape(1,-1)"
   ]
  },
  {
   "cell_type": "code",
   "execution_count": 29,
   "metadata": {},
   "outputs": [
    {
     "name": "stdout",
     "output_type": "stream",
     "text": [
      "[[0.2042041]]\n"
     ]
    }
   ],
   "source": [
    "scaled_custom_input=scaler_data.transform(custom_input)\n",
    "custom_predicted=model.predict(scaled_custom_input)\n",
    "print(custom_predicted)"
   ]
  },
  {
   "cell_type": "code",
   "execution_count": 30,
   "metadata": {},
   "outputs": [
    {
     "name": "stdout",
     "output_type": "stream",
     "text": [
      "[[17.51861]]\n"
     ]
    }
   ],
   "source": [
    "print(scaler_target.inverse_transform(custom_predicted))"
   ]
  },
  {
   "cell_type": "code",
   "execution_count": 31,
   "metadata": {},
   "outputs": [
    {
     "data": {
      "text/plain": [
       "['scaler_target.sav']"
      ]
     },
     "execution_count": 31,
     "metadata": {},
     "output_type": "execute_result"
    }
   ],
   "source": [
    "#to save the scaling objects\n",
    "import joblib\n",
    "\n",
    "joblib.dump(scaler_data,'scaler_data.sav')\n",
    "joblib.dump(scaler_target,'scaler_target.sav')"
   ]
  },
  {
   "cell_type": "code",
   "execution_count": 32,
   "metadata": {},
   "outputs": [],
   "source": [
    "model.save_weights('heart-risk-weights.h5')  #to save only weights\n",
    "model.save('heart-risk.model')  #to save the whole model"
   ]
  },
  {
   "cell_type": "code",
   "execution_count": null,
   "metadata": {},
   "outputs": [],
   "source": []
  }
 ],
 "metadata": {
  "kernelspec": {
   "display_name": "Python 3",
   "language": "python",
   "name": "python3"
  },
  "language_info": {
   "codemirror_mode": {
    "name": "ipython",
    "version": 3
   },
   "file_extension": ".py",
   "mimetype": "text/x-python",
   "name": "python",
   "nbconvert_exporter": "python",
   "pygments_lexer": "ipython3",
   "version": "3.7.9"
  }
 },
 "nbformat": 4,
 "nbformat_minor": 4
}
